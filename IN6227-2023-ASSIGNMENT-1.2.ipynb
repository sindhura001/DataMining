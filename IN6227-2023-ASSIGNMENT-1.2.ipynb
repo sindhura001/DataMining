{
 "cells": [
  {
   "cell_type": "code",
   "execution_count": 136,
   "id": "c8dcb29f",
   "metadata": {},
   "outputs": [],
   "source": [
    "import pandas as pd\n",
    "import numpy as np\n",
    "import matplotlib.pyplot as plt\n",
    "import plotly.express as px\n",
    "from sklearn import preprocessing\n",
    "from sklearn.preprocessing import StandardScaler\n",
    "from sklearn.model_selection import train_test_split\n",
    "from sklearn.tree import DecisionTreeClassifier\n",
    "from sklearn.neighbors import KNeighborsClassifier\n",
    "from sklearn.metrics import accuracy_score, classification_report\n",
    "\n",
    "import time\n",
    "\n",
    "\n",
    "\n"
   ]
  },
  {
   "cell_type": "code",
   "execution_count": 137,
   "id": "15fd6fb2",
   "metadata": {},
   "outputs": [],
   "source": [
    "\n",
    "columns = [\"age\", \"workclass\", \"fnlwgt\", \"education\", \"education-num\", \"marital-status\",\n",
    "         \"occupation\", \"relationship\", \"race\", \"sex\", \"capital-gain\", \"capital-loss\",\n",
    "         \"hours-per-week\", \"native-country\", \"income\"]\n",
    "data = pd.read_csv('adult.data', header=None, names=columns)"
   ]
  },
  {
   "cell_type": "code",
   "execution_count": 138,
   "id": "0bc70494",
   "metadata": {},
   "outputs": [
    {
     "data": {
      "text/html": [
       "<div>\n",
       "<style scoped>\n",
       "    .dataframe tbody tr th:only-of-type {\n",
       "        vertical-align: middle;\n",
       "    }\n",
       "\n",
       "    .dataframe tbody tr th {\n",
       "        vertical-align: top;\n",
       "    }\n",
       "\n",
       "    .dataframe thead th {\n",
       "        text-align: right;\n",
       "    }\n",
       "</style>\n",
       "<table border=\"1\" class=\"dataframe\">\n",
       "  <thead>\n",
       "    <tr style=\"text-align: right;\">\n",
       "      <th></th>\n",
       "      <th>age</th>\n",
       "      <th>workclass</th>\n",
       "      <th>fnlwgt</th>\n",
       "      <th>education</th>\n",
       "      <th>education-num</th>\n",
       "      <th>marital-status</th>\n",
       "      <th>occupation</th>\n",
       "      <th>relationship</th>\n",
       "      <th>race</th>\n",
       "      <th>sex</th>\n",
       "      <th>capital-gain</th>\n",
       "      <th>capital-loss</th>\n",
       "      <th>hours-per-week</th>\n",
       "      <th>native-country</th>\n",
       "      <th>income</th>\n",
       "    </tr>\n",
       "  </thead>\n",
       "  <tbody>\n",
       "    <tr>\n",
       "      <th>0</th>\n",
       "      <td>39</td>\n",
       "      <td>State-gov</td>\n",
       "      <td>77516</td>\n",
       "      <td>Bachelors</td>\n",
       "      <td>13</td>\n",
       "      <td>Never-married</td>\n",
       "      <td>Adm-clerical</td>\n",
       "      <td>Not-in-family</td>\n",
       "      <td>White</td>\n",
       "      <td>Male</td>\n",
       "      <td>2174</td>\n",
       "      <td>0</td>\n",
       "      <td>40</td>\n",
       "      <td>United-States</td>\n",
       "      <td>&lt;=50K</td>\n",
       "    </tr>\n",
       "    <tr>\n",
       "      <th>1</th>\n",
       "      <td>50</td>\n",
       "      <td>Self-emp-not-inc</td>\n",
       "      <td>83311</td>\n",
       "      <td>Bachelors</td>\n",
       "      <td>13</td>\n",
       "      <td>Married-civ-spouse</td>\n",
       "      <td>Exec-managerial</td>\n",
       "      <td>Husband</td>\n",
       "      <td>White</td>\n",
       "      <td>Male</td>\n",
       "      <td>0</td>\n",
       "      <td>0</td>\n",
       "      <td>13</td>\n",
       "      <td>United-States</td>\n",
       "      <td>&lt;=50K</td>\n",
       "    </tr>\n",
       "    <tr>\n",
       "      <th>2</th>\n",
       "      <td>38</td>\n",
       "      <td>Private</td>\n",
       "      <td>215646</td>\n",
       "      <td>HS-grad</td>\n",
       "      <td>9</td>\n",
       "      <td>Divorced</td>\n",
       "      <td>Handlers-cleaners</td>\n",
       "      <td>Not-in-family</td>\n",
       "      <td>White</td>\n",
       "      <td>Male</td>\n",
       "      <td>0</td>\n",
       "      <td>0</td>\n",
       "      <td>40</td>\n",
       "      <td>United-States</td>\n",
       "      <td>&lt;=50K</td>\n",
       "    </tr>\n",
       "    <tr>\n",
       "      <th>3</th>\n",
       "      <td>53</td>\n",
       "      <td>Private</td>\n",
       "      <td>234721</td>\n",
       "      <td>11th</td>\n",
       "      <td>7</td>\n",
       "      <td>Married-civ-spouse</td>\n",
       "      <td>Handlers-cleaners</td>\n",
       "      <td>Husband</td>\n",
       "      <td>Black</td>\n",
       "      <td>Male</td>\n",
       "      <td>0</td>\n",
       "      <td>0</td>\n",
       "      <td>40</td>\n",
       "      <td>United-States</td>\n",
       "      <td>&lt;=50K</td>\n",
       "    </tr>\n",
       "    <tr>\n",
       "      <th>4</th>\n",
       "      <td>28</td>\n",
       "      <td>Private</td>\n",
       "      <td>338409</td>\n",
       "      <td>Bachelors</td>\n",
       "      <td>13</td>\n",
       "      <td>Married-civ-spouse</td>\n",
       "      <td>Prof-specialty</td>\n",
       "      <td>Wife</td>\n",
       "      <td>Black</td>\n",
       "      <td>Female</td>\n",
       "      <td>0</td>\n",
       "      <td>0</td>\n",
       "      <td>40</td>\n",
       "      <td>Cuba</td>\n",
       "      <td>&lt;=50K</td>\n",
       "    </tr>\n",
       "  </tbody>\n",
       "</table>\n",
       "</div>"
      ],
      "text/plain": [
       "   age          workclass  fnlwgt   education  education-num  \\\n",
       "0   39          State-gov   77516   Bachelors             13   \n",
       "1   50   Self-emp-not-inc   83311   Bachelors             13   \n",
       "2   38            Private  215646     HS-grad              9   \n",
       "3   53            Private  234721        11th              7   \n",
       "4   28            Private  338409   Bachelors             13   \n",
       "\n",
       "        marital-status          occupation    relationship    race      sex  \\\n",
       "0        Never-married        Adm-clerical   Not-in-family   White     Male   \n",
       "1   Married-civ-spouse     Exec-managerial         Husband   White     Male   \n",
       "2             Divorced   Handlers-cleaners   Not-in-family   White     Male   \n",
       "3   Married-civ-spouse   Handlers-cleaners         Husband   Black     Male   \n",
       "4   Married-civ-spouse      Prof-specialty            Wife   Black   Female   \n",
       "\n",
       "   capital-gain  capital-loss  hours-per-week  native-country  income  \n",
       "0          2174             0              40   United-States   <=50K  \n",
       "1             0             0              13   United-States   <=50K  \n",
       "2             0             0              40   United-States   <=50K  \n",
       "3             0             0              40   United-States   <=50K  \n",
       "4             0             0              40            Cuba   <=50K  "
      ]
     },
     "execution_count": 138,
     "metadata": {},
     "output_type": "execute_result"
    }
   ],
   "source": [
    "data.head()\n"
   ]
  },
  {
   "cell_type": "code",
   "execution_count": 139,
   "id": "508d19bf",
   "metadata": {},
   "outputs": [
    {
     "name": "stdout",
     "output_type": "stream",
     "text": [
      "age : [39 50 38 53 28 37 49 52 31 42 30 23 32 40 34 25 43 54 35 59 56 19 20 45\n",
      " 22 48 21 24 57 44 41 29 18 47 46 36 79 27 67 33 76 17 55 61 70 64 71 68\n",
      " 66 51 58 26 60 90 75 65 77 62 63 80 72 74 69 73 81 78 88 82 83 84 85 86\n",
      " 87] \n",
      "\n",
      "workclass : [' State-gov' ' Self-emp-not-inc' ' Private' ' Federal-gov' ' Local-gov'\n",
      " ' ?' ' Self-emp-inc' ' Without-pay' ' Never-worked'] \n",
      "\n",
      "fnlwgt : [ 77516  83311 215646 ...  34066  84661 257302] \n",
      "\n",
      "education : [' Bachelors' ' HS-grad' ' 11th' ' Masters' ' 9th' ' Some-college'\n",
      " ' Assoc-acdm' ' Assoc-voc' ' 7th-8th' ' Doctorate' ' Prof-school'\n",
      " ' 5th-6th' ' 10th' ' 1st-4th' ' Preschool' ' 12th'] \n",
      "\n",
      "education-num : [13  9  7 14  5 10 12 11  4 16 15  3  6  2  1  8] \n",
      "\n",
      "marital-status : [' Never-married' ' Married-civ-spouse' ' Divorced'\n",
      " ' Married-spouse-absent' ' Separated' ' Married-AF-spouse' ' Widowed'] \n",
      "\n",
      "occupation : [' Adm-clerical' ' Exec-managerial' ' Handlers-cleaners' ' Prof-specialty'\n",
      " ' Other-service' ' Sales' ' Craft-repair' ' Transport-moving'\n",
      " ' Farming-fishing' ' Machine-op-inspct' ' Tech-support' ' ?'\n",
      " ' Protective-serv' ' Armed-Forces' ' Priv-house-serv'] \n",
      "\n",
      "relationship : [' Not-in-family' ' Husband' ' Wife' ' Own-child' ' Unmarried'\n",
      " ' Other-relative'] \n",
      "\n",
      "race : [' White' ' Black' ' Asian-Pac-Islander' ' Amer-Indian-Eskimo' ' Other'] \n",
      "\n",
      "sex : [' Male' ' Female'] \n",
      "\n",
      "capital-gain : [ 2174     0 14084  5178  5013  2407 14344 15024  7688 34095  4064  4386\n",
      "  7298  1409  3674  1055  3464  2050  2176   594 20051  6849  4101  1111\n",
      "  8614  3411  2597 25236  4650  9386  2463  3103 10605  2964  3325  2580\n",
      "  3471  4865 99999  6514  1471  2329  2105  2885 25124 10520  2202  2961\n",
      " 27828  6767  2228  1506 13550  2635  5556  4787  3781  3137  3818  3942\n",
      "   914   401  2829  2977  4934  2062  2354  5455 15020  1424  3273 22040\n",
      "  4416  3908 10566   991  4931  1086  7430  6497   114  7896  2346  3418\n",
      "  3432  2907  1151  2414  2290 15831 41310  4508  2538  3456  6418  1848\n",
      "  3887  5721  9562  1455  2036  1831 11678  2936  2993  7443  6360  1797\n",
      "  1173  4687  6723  2009  6097  2653  1639 18481  7978  2387  5060] \n",
      "\n",
      "capital-loss : [   0 2042 1408 1902 1573 1887 1719 1762 1564 2179 1816 1980 1977 1876\n",
      " 1340 2206 1741 1485 2339 2415 1380 1721 2051 2377 1669 2352 1672  653\n",
      " 2392 1504 2001 1590 1651 1628 1848 1740 2002 1579 2258 1602  419 2547\n",
      " 2174 2205 1726 2444 1138 2238  625  213 1539  880 1668 1092 1594 3004\n",
      " 2231 1844  810 2824 2559 2057 1974  974 2149 1825 1735 1258 2129 2603\n",
      " 2282  323 4356 2246 1617 1648 2489 3770 1755 3683 2267 2080 2457  155\n",
      " 3900 2201 1944 2467 2163 2754 2472 1411] \n",
      "\n",
      "hours-per-week : [40 13 16 45 50 80 30 35 60 20 52 44 15 25 38 43 55 48 58 32 70  2 22 56\n",
      " 41 28 36 24 46 42 12 65  1 10 34 75 98 33 54  8  6 64 19 18 72  5  9 47\n",
      " 37 21 26 14  4 59  7 99 53 39 62 57 78 90 66 11 49 84  3 17 68 27 85 31\n",
      " 51 77 63 23 87 88 73 89 97 94 29 96 67 82 86 91 81 76 92 61 74 95] \n",
      "\n",
      "native-country : [' United-States' ' Cuba' ' Jamaica' ' India' ' ?' ' Mexico' ' South'\n",
      " ' Puerto-Rico' ' Honduras' ' England' ' Canada' ' Germany' ' Iran'\n",
      " ' Philippines' ' Italy' ' Poland' ' Columbia' ' Cambodia' ' Thailand'\n",
      " ' Ecuador' ' Laos' ' Taiwan' ' Haiti' ' Portugal' ' Dominican-Republic'\n",
      " ' El-Salvador' ' France' ' Guatemala' ' China' ' Japan' ' Yugoslavia'\n",
      " ' Peru' ' Outlying-US(Guam-USVI-etc)' ' Scotland' ' Trinadad&Tobago'\n",
      " ' Greece' ' Nicaragua' ' Vietnam' ' Hong' ' Ireland' ' Hungary'\n",
      " ' Holand-Netherlands'] \n",
      "\n",
      "income : [' <=50K' ' >50K'] \n",
      "\n"
     ]
    }
   ],
   "source": [
    "for column in columns:\n",
    "    print(column,':', data[column].unique(), '\\n')"
   ]
  },
  {
   "cell_type": "code",
   "execution_count": 140,
   "id": "0aa016cc",
   "metadata": {},
   "outputs": [],
   "source": [
    "# discard spaces from entries\n",
    "for column in data.columns:\n",
    "    if data[column].dtype == \"object\":\n",
    "        data[column] = data[column].str.strip()"
   ]
  },
  {
   "cell_type": "markdown",
   "id": "a808d5ee",
   "metadata": {},
   "source": [
    "Data Stats"
   ]
  },
  {
   "cell_type": "code",
   "execution_count": 141,
   "id": "789e3edc",
   "metadata": {},
   "outputs": [
    {
     "name": "stdout",
     "output_type": "stream",
     "text": [
      "<class 'pandas.core.frame.DataFrame'>\n",
      "RangeIndex: 32561 entries, 0 to 32560\n",
      "Data columns (total 15 columns):\n",
      " #   Column          Non-Null Count  Dtype \n",
      "---  ------          --------------  ----- \n",
      " 0   age             32561 non-null  int64 \n",
      " 1   workclass       32561 non-null  object\n",
      " 2   fnlwgt          32561 non-null  int64 \n",
      " 3   education       32561 non-null  object\n",
      " 4   education-num   32561 non-null  int64 \n",
      " 5   marital-status  32561 non-null  object\n",
      " 6   occupation      32561 non-null  object\n",
      " 7   relationship    32561 non-null  object\n",
      " 8   race            32561 non-null  object\n",
      " 9   sex             32561 non-null  object\n",
      " 10  capital-gain    32561 non-null  int64 \n",
      " 11  capital-loss    32561 non-null  int64 \n",
      " 12  hours-per-week  32561 non-null  int64 \n",
      " 13  native-country  32561 non-null  object\n",
      " 14  income          32561 non-null  object\n",
      "dtypes: int64(6), object(9)\n",
      "memory usage: 3.7+ MB\n"
     ]
    }
   ],
   "source": [
    "data.info()\n"
   ]
  },
  {
   "cell_type": "code",
   "execution_count": 142,
   "id": "d5a3a130",
   "metadata": {},
   "outputs": [
    {
     "data": {
      "text/plain": [
       "age               0\n",
       "workclass         0\n",
       "fnlwgt            0\n",
       "education         0\n",
       "education-num     0\n",
       "marital-status    0\n",
       "occupation        0\n",
       "relationship      0\n",
       "race              0\n",
       "sex               0\n",
       "capital-gain      0\n",
       "capital-loss      0\n",
       "hours-per-week    0\n",
       "native-country    0\n",
       "income            0\n",
       "dtype: int64"
      ]
     },
     "execution_count": 142,
     "metadata": {},
     "output_type": "execute_result"
    }
   ],
   "source": [
    "data.isnull().sum()\n"
   ]
  },
  {
   "cell_type": "code",
   "execution_count": 143,
   "id": "ca254701",
   "metadata": {},
   "outputs": [
    {
     "name": "stdout",
     "output_type": "stream",
     "text": [
      "                age        fnlwgt  education-num  capital-gain  capital-loss  \\\n",
      "count  32561.000000  3.256100e+04   32561.000000  32561.000000  32561.000000   \n",
      "mean      38.581647  1.897784e+05      10.080679   1077.648844     87.303830   \n",
      "std       13.640433  1.055500e+05       2.572720   7385.292085    402.960219   \n",
      "min       17.000000  1.228500e+04       1.000000      0.000000      0.000000   \n",
      "25%       28.000000  1.178270e+05       9.000000      0.000000      0.000000   \n",
      "50%       37.000000  1.783560e+05      10.000000      0.000000      0.000000   \n",
      "75%       48.000000  2.370510e+05      12.000000      0.000000      0.000000   \n",
      "max       90.000000  1.484705e+06      16.000000  99999.000000   4356.000000   \n",
      "\n",
      "       hours-per-week  \n",
      "count    32561.000000  \n",
      "mean        40.437456  \n",
      "std         12.347429  \n",
      "min          1.000000  \n",
      "25%         40.000000  \n",
      "50%         40.000000  \n",
      "75%         45.000000  \n",
      "max         99.000000  \n",
      "                age        fnlwgt  education-num  capital-gain  capital-loss  \\\n",
      "count  31653.000000  3.165300e+04   31653.000000  31653.000000  31653.000000   \n",
      "mean      38.572805  1.900149e+05      10.126054   1097.745743     88.010868   \n",
      "std       13.098352  1.054418e+05       2.553243   7477.323592    403.824853   \n",
      "min       18.000000  1.228500e+04       1.000000      0.000000      0.000000   \n",
      "25%       28.000000  1.179440e+05       9.000000      0.000000      0.000000   \n",
      "50%       37.000000  1.787090e+05      10.000000      0.000000      0.000000   \n",
      "75%       47.000000  2.374980e+05      13.000000      0.000000      0.000000   \n",
      "max       80.000000  1.484705e+06      16.000000  99999.000000   4356.000000   \n",
      "\n",
      "       hours-per-week  \n",
      "count    31653.000000  \n",
      "mean        41.164313  \n",
      "std         11.542194  \n",
      "min         10.000000  \n",
      "25%         40.000000  \n",
      "50%         40.000000  \n",
      "75%         45.000000  \n",
      "max         99.000000  \n"
     ]
    }
   ],
   "source": [
    "print(data.describe())\n",
    "\n",
    "# Remove outliers from the 'age' column\n",
    "data = data[(data['age'] >= 18) & (data['age'] <= 80)]\n",
    "\n",
    "# Remove outliers from the 'hours-per-week' column\n",
    "data = data[(data['hours-per-week'] >= 10)]\n",
    "\n",
    "print(data.describe())"
   ]
  },
  {
   "cell_type": "markdown",
   "id": "0e04c07c",
   "metadata": {},
   "source": [
    "# Missing values"
   ]
  },
  {
   "cell_type": "code",
   "execution_count": 144,
   "id": "1feedf0d",
   "metadata": {},
   "outputs": [
    {
     "data": {
      "text/plain": [
       "age                  0\n",
       "workclass         1603\n",
       "fnlwgt               0\n",
       "education            0\n",
       "education-num        0\n",
       "marital-status       0\n",
       "occupation        1608\n",
       "relationship         0\n",
       "race                 0\n",
       "sex                  0\n",
       "capital-gain         0\n",
       "capital-loss         0\n",
       "hours-per-week       0\n",
       "native-country     572\n",
       "income               0\n",
       "dtype: int64"
      ]
     },
     "execution_count": 144,
     "metadata": {},
     "output_type": "execute_result"
    }
   ],
   "source": [
    "data[data == '?'] = np.nan\n",
    "data.isnull().sum()\n"
   ]
  },
  {
   "cell_type": "code",
   "execution_count": 145,
   "id": "eeb34806",
   "metadata": {
    "scrolled": true
   },
   "outputs": [
    {
     "data": {
      "text/plain": [
       "age               0\n",
       "workclass         0\n",
       "fnlwgt            0\n",
       "education         0\n",
       "education-num     0\n",
       "marital-status    0\n",
       "occupation        0\n",
       "relationship      0\n",
       "race              0\n",
       "sex               0\n",
       "capital-gain      0\n",
       "capital-loss      0\n",
       "hours-per-week    0\n",
       "native-country    0\n",
       "income            0\n",
       "dtype: int64"
      ]
     },
     "execution_count": 145,
     "metadata": {},
     "output_type": "execute_result"
    }
   ],
   "source": [
    "# Filling missing values with the most frequent value\n",
    "\n",
    "data['workclass'].fillna(data['workclass'].mode()[0],inplace = True)\n",
    "data['occupation'].fillna(data['occupation'].mode()[0],inplace = True)\n",
    "data['native-country'].fillna(data['native-country'].mode()[0],inplace = True)\n",
    "data.isnull().sum()\n"
   ]
  },
  {
   "cell_type": "code",
   "execution_count": 146,
   "id": "4e9fc261",
   "metadata": {},
   "outputs": [
    {
     "name": "stdout",
     "output_type": "stream",
     "text": [
      " duplicates in the data: 23\n",
      "After removing duplicates: 0\n"
     ]
    }
   ],
   "source": [
    "# To check duplicates and remove it\n",
    "print(\" duplicates in the data:\", data.duplicated().sum())\n",
    "data = data[~data.duplicated()]\n",
    "print(\"After removing duplicates:\", data.duplicated().sum())"
   ]
  },
  {
   "cell_type": "code",
   "execution_count": 147,
   "id": "88b1f3b8",
   "metadata": {},
   "outputs": [],
   "source": [
    "# create\\ing new feature \"education_level\"\n",
    "data['education_level'] = data['education'] + '_' + data['education-num'].astype(str)"
   ]
  },
  {
   "cell_type": "markdown",
   "id": "0b10b530",
   "metadata": {},
   "source": [
    "# Data Exploration"
   ]
  },
  {
   "cell_type": "code",
   "execution_count": 148,
   "id": "a5949a2e",
   "metadata": {},
   "outputs": [
    {
     "data": {
      "text/html": [
       "<div>\n",
       "<style scoped>\n",
       "    .dataframe tbody tr th:only-of-type {\n",
       "        vertical-align: middle;\n",
       "    }\n",
       "\n",
       "    .dataframe tbody tr th {\n",
       "        vertical-align: top;\n",
       "    }\n",
       "\n",
       "    .dataframe thead th {\n",
       "        text-align: right;\n",
       "    }\n",
       "</style>\n",
       "<table border=\"1\" class=\"dataframe\">\n",
       "  <thead>\n",
       "    <tr style=\"text-align: right;\">\n",
       "      <th></th>\n",
       "      <th>age</th>\n",
       "      <th>fnlwgt</th>\n",
       "      <th>education-num</th>\n",
       "      <th>capital-gain</th>\n",
       "      <th>capital-loss</th>\n",
       "      <th>hours-per-week</th>\n",
       "    </tr>\n",
       "  </thead>\n",
       "  <tbody>\n",
       "    <tr>\n",
       "      <th>count</th>\n",
       "      <td>31630.000000</td>\n",
       "      <td>3.163000e+04</td>\n",
       "      <td>31630.000000</td>\n",
       "      <td>31630.000000</td>\n",
       "      <td>31630.000000</td>\n",
       "      <td>31630.000000</td>\n",
       "    </tr>\n",
       "    <tr>\n",
       "      <th>mean</th>\n",
       "      <td>38.578438</td>\n",
       "      <td>1.900133e+05</td>\n",
       "      <td>10.127253</td>\n",
       "      <td>1098.543977</td>\n",
       "      <td>88.074866</td>\n",
       "      <td>41.167626</td>\n",
       "    </tr>\n",
       "    <tr>\n",
       "      <th>std</th>\n",
       "      <td>13.098296</td>\n",
       "      <td>1.054496e+05</td>\n",
       "      <td>2.552040</td>\n",
       "      <td>7479.983163</td>\n",
       "      <td>403.964676</td>\n",
       "      <td>11.540634</td>\n",
       "    </tr>\n",
       "    <tr>\n",
       "      <th>min</th>\n",
       "      <td>18.000000</td>\n",
       "      <td>1.228500e+04</td>\n",
       "      <td>1.000000</td>\n",
       "      <td>0.000000</td>\n",
       "      <td>0.000000</td>\n",
       "      <td>10.000000</td>\n",
       "    </tr>\n",
       "    <tr>\n",
       "      <th>25%</th>\n",
       "      <td>28.000000</td>\n",
       "      <td>1.179312e+05</td>\n",
       "      <td>9.000000</td>\n",
       "      <td>0.000000</td>\n",
       "      <td>0.000000</td>\n",
       "      <td>40.000000</td>\n",
       "    </tr>\n",
       "    <tr>\n",
       "      <th>50%</th>\n",
       "      <td>37.000000</td>\n",
       "      <td>1.786870e+05</td>\n",
       "      <td>10.000000</td>\n",
       "      <td>0.000000</td>\n",
       "      <td>0.000000</td>\n",
       "      <td>40.000000</td>\n",
       "    </tr>\n",
       "    <tr>\n",
       "      <th>75%</th>\n",
       "      <td>47.000000</td>\n",
       "      <td>2.374542e+05</td>\n",
       "      <td>13.000000</td>\n",
       "      <td>0.000000</td>\n",
       "      <td>0.000000</td>\n",
       "      <td>45.000000</td>\n",
       "    </tr>\n",
       "    <tr>\n",
       "      <th>max</th>\n",
       "      <td>80.000000</td>\n",
       "      <td>1.484705e+06</td>\n",
       "      <td>16.000000</td>\n",
       "      <td>99999.000000</td>\n",
       "      <td>4356.000000</td>\n",
       "      <td>99.000000</td>\n",
       "    </tr>\n",
       "  </tbody>\n",
       "</table>\n",
       "</div>"
      ],
      "text/plain": [
       "                age        fnlwgt  education-num  capital-gain  capital-loss  \\\n",
       "count  31630.000000  3.163000e+04   31630.000000  31630.000000  31630.000000   \n",
       "mean      38.578438  1.900133e+05      10.127253   1098.543977     88.074866   \n",
       "std       13.098296  1.054496e+05       2.552040   7479.983163    403.964676   \n",
       "min       18.000000  1.228500e+04       1.000000      0.000000      0.000000   \n",
       "25%       28.000000  1.179312e+05       9.000000      0.000000      0.000000   \n",
       "50%       37.000000  1.786870e+05      10.000000      0.000000      0.000000   \n",
       "75%       47.000000  2.374542e+05      13.000000      0.000000      0.000000   \n",
       "max       80.000000  1.484705e+06      16.000000  99999.000000   4356.000000   \n",
       "\n",
       "       hours-per-week  \n",
       "count    31630.000000  \n",
       "mean        41.167626  \n",
       "std         11.540634  \n",
       "min         10.000000  \n",
       "25%         40.000000  \n",
       "50%         40.000000  \n",
       "75%         45.000000  \n",
       "max         99.000000  "
      ]
     },
     "execution_count": 148,
     "metadata": {},
     "output_type": "execute_result"
    }
   ],
   "source": [
    "data.describe()\n"
   ]
  },
  {
   "cell_type": "code",
   "execution_count": 149,
   "id": "941bcdb9",
   "metadata": {},
   "outputs": [
    {
     "data": {
      "text/html": [
       "<div>\n",
       "<style scoped>\n",
       "    .dataframe tbody tr th:only-of-type {\n",
       "        vertical-align: middle;\n",
       "    }\n",
       "\n",
       "    .dataframe tbody tr th {\n",
       "        vertical-align: top;\n",
       "    }\n",
       "\n",
       "    .dataframe thead th {\n",
       "        text-align: right;\n",
       "    }\n",
       "</style>\n",
       "<table border=\"1\" class=\"dataframe\">\n",
       "  <thead>\n",
       "    <tr style=\"text-align: right;\">\n",
       "      <th></th>\n",
       "      <th>age</th>\n",
       "      <th>fnlwgt</th>\n",
       "      <th>education-num</th>\n",
       "      <th>capital-gain</th>\n",
       "      <th>capital-loss</th>\n",
       "      <th>hours-per-week</th>\n",
       "    </tr>\n",
       "  </thead>\n",
       "  <tbody>\n",
       "    <tr>\n",
       "      <th>age</th>\n",
       "      <td>1.000000</td>\n",
       "      <td>-0.078912</td>\n",
       "      <td>0.013522</td>\n",
       "      <td>0.079928</td>\n",
       "      <td>0.056489</td>\n",
       "      <td>0.085078</td>\n",
       "    </tr>\n",
       "    <tr>\n",
       "      <th>fnlwgt</th>\n",
       "      <td>-0.078912</td>\n",
       "      <td>1.000000</td>\n",
       "      <td>-0.046749</td>\n",
       "      <td>-0.000130</td>\n",
       "      <td>-0.009727</td>\n",
       "      <td>-0.025675</td>\n",
       "    </tr>\n",
       "    <tr>\n",
       "      <th>education-num</th>\n",
       "      <td>0.013522</td>\n",
       "      <td>-0.046749</td>\n",
       "      <td>1.000000</td>\n",
       "      <td>0.122437</td>\n",
       "      <td>0.079627</td>\n",
       "      <td>0.133613</td>\n",
       "    </tr>\n",
       "    <tr>\n",
       "      <th>capital-gain</th>\n",
       "      <td>0.079928</td>\n",
       "      <td>-0.000130</td>\n",
       "      <td>0.122437</td>\n",
       "      <td>1.000000</td>\n",
       "      <td>-0.032021</td>\n",
       "      <td>0.078307</td>\n",
       "    </tr>\n",
       "    <tr>\n",
       "      <th>capital-loss</th>\n",
       "      <td>0.056489</td>\n",
       "      <td>-0.009727</td>\n",
       "      <td>0.079627</td>\n",
       "      <td>-0.032021</td>\n",
       "      <td>1.000000</td>\n",
       "      <td>0.054663</td>\n",
       "    </tr>\n",
       "    <tr>\n",
       "      <th>hours-per-week</th>\n",
       "      <td>0.085078</td>\n",
       "      <td>-0.025675</td>\n",
       "      <td>0.133613</td>\n",
       "      <td>0.078307</td>\n",
       "      <td>0.054663</td>\n",
       "      <td>1.000000</td>\n",
       "    </tr>\n",
       "  </tbody>\n",
       "</table>\n",
       "</div>"
      ],
      "text/plain": [
       "                     age    fnlwgt  education-num  capital-gain  capital-loss  \\\n",
       "age             1.000000 -0.078912       0.013522      0.079928      0.056489   \n",
       "fnlwgt         -0.078912  1.000000      -0.046749     -0.000130     -0.009727   \n",
       "education-num   0.013522 -0.046749       1.000000      0.122437      0.079627   \n",
       "capital-gain    0.079928 -0.000130       0.122437      1.000000     -0.032021   \n",
       "capital-loss    0.056489 -0.009727       0.079627     -0.032021      1.000000   \n",
       "hours-per-week  0.085078 -0.025675       0.133613      0.078307      0.054663   \n",
       "\n",
       "                hours-per-week  \n",
       "age                   0.085078  \n",
       "fnlwgt               -0.025675  \n",
       "education-num         0.133613  \n",
       "capital-gain          0.078307  \n",
       "capital-loss          0.054663  \n",
       "hours-per-week        1.000000  "
      ]
     },
     "execution_count": 149,
     "metadata": {},
     "output_type": "execute_result"
    }
   ],
   "source": [
    "data.corr()\n"
   ]
  },
  {
   "cell_type": "code",
   "execution_count": 150,
   "id": "6075503f",
   "metadata": {},
   "outputs": [
    {
     "data": {
      "image/png": "[encoded data removed]",
      "text/plain": [
       "<Figure size 1440x720 with 2 Axes>"
      ]
     },
     "metadata": {
      "needs_background": "light"
     },
     "output_type": "display_data"
    }
   ],
   "source": [
    "#Heat map for correlation\n",
    "\n",
    "plt.figure(figsize=(20, 10))\n",
    "sns.heatmap(data.corr(), annot = True, cmap=\"BuPu\")\n",
    "plt.show()\n",
    "plt.close()"
   ]
  },
  {
   "cell_type": "markdown",
   "id": "7d7839b5",
   "metadata": {},
   "source": [
    "There is not a great correlation between the numerical features.\n",
    "\n",
    "The correlation of fnlwgt gives a negative value so this can be dropped\n",
    "\n",
    "There is some correlation between education-num and capital loss,\n",
    "\n",
    "and education-num and capital gain."
   ]
  },
  {
   "cell_type": "code",
   "execution_count": 151,
   "id": "249a7f69",
   "metadata": {},
   "outputs": [
    {
     "data": {
      "image/png": "[encoded data removed]",
      "text/plain": [
       "<Figure size 432x288 with 1 Axes>"
      ]
     },
     "metadata": {
      "needs_background": "light"
     },
     "output_type": "display_data"
    },
    {
     "data": {
      "image/png": "[encoded data removed]",
      "text/plain": [
       "<Figure size 432x288 with 1 Axes>"
      ]
     },
     "metadata": {},
     "output_type": "display_data"
    }
   ],
   "source": [
    "\n",
    "# Histogram of income\n",
    "plt.hist(data['income'], bins=2)\n",
    "plt.xlabel('Income')\n",
    "plt.ylabel('Count')\n",
    "plt.title('Histogram of Income')\n",
    "plt.show()\n",
    "\n",
    "# Pie chart of income distribution\n",
    "income_counts = data['income'].value_counts()\n",
    "labels = ['<=50K', '>50K']\n",
    "colors = ['yellowgreen', 'lightcoral']\n",
    "explode = (0, 0.1)\n",
    "\n",
    "plt.pie(income_counts, explode=explode, labels=labels, colors=colors,\n",
    "        autopct='%1.1f%%', startangle=90)\n",
    "plt.axis('equal')\n",
    "plt.title('Income Distribution')\n",
    "plt.show()"
   ]
  },
  {
   "cell_type": "markdown",
   "id": "37c29652",
   "metadata": {},
   "source": [
    "From the above chart it can be noticed that income with <=50k are  75.9%"
   ]
  },
  {
   "cell_type": "code",
   "execution_count": 152,
   "id": "b83361af",
   "metadata": {},
   "outputs": [],
   "source": [
    "data.drop('fnlwgt', axis=1, inplace=True)"
   ]
  },
  {
   "cell_type": "markdown",
   "id": "92704e91",
   "metadata": {},
   "source": [
    "# Preprocessing the data\n"
   ]
  },
  {
   "cell_type": "code",
   "execution_count": 153,
   "id": "577249a1",
   "metadata": {},
   "outputs": [],
   "source": [
    "#transforming categorical into binary variables\n",
    "\n",
    "label_encoder = preprocessing.LabelEncoder()\n",
    "columns = ['workclass', 'education', 'marital-status', 'occupation',\n",
    "           'relationship', 'race', 'sex', 'native-country','education_level']\n",
    "\n",
    "# Loop through the columns and encode each one\n",
    "for column in columns:\n",
    "    data[column]= label_encoder.fit_transform(data[column])"
   ]
  },
  {
   "cell_type": "code",
   "execution_count": 154,
   "id": "120a16ef",
   "metadata": {},
   "outputs": [],
   "source": [
    "# Partioning the data\n",
    "X = data.drop('income', axis=1)\n",
    "y = data['income']\n"
   ]
  },
  {
   "cell_type": "markdown",
   "id": "6a914d1b",
   "metadata": {},
   "source": [
    "# TRAIN-TEST SPLIT\n"
   ]
  },
  {
   "cell_type": "code",
   "execution_count": 155,
   "id": "35eccf3c",
   "metadata": {},
   "outputs": [],
   "source": [
    "# Splitting to training and testing\n",
    "x_train, x_test, y_train, y_test = train_test_split(X, y, test_size=0.3, random_state=42)\n"
   ]
  },
  {
   "cell_type": "markdown",
   "id": "e02413dc",
   "metadata": {},
   "source": [
    "# Model building and  Comparision of Decision Tree and Knn\n",
    "\n"
   ]
  },
  {
   "cell_type": "code",
   "execution_count": 156,
   "id": "714fc8f2",
   "metadata": {},
   "outputs": [],
   "source": [
    "def evaluate(actual, pred):\n",
    "    \n",
    "    confusion_matrix = pd.crosstab(actual, pred, rownames=['Actual'], colnames=['Predicted'])\n",
    "    TP = confusion_matrix.loc['>50K','>50K']\n",
    "    TN = confusion_matrix.loc['<=50K','<=50K']\n",
    "    FP = confusion_matrix.loc['<=50K','>50K']\n",
    "    FN = confusion_matrix.loc['>50K','<=50K']\n",
    "\n",
    "    accuracy = (TP+TN)/(TP+FN+FP+TN)\n",
    "    precision = (TP)/(TP+FP)\n",
    "    recall = (TP)/(TP+FN)\n",
    "    f_measure = (2*recall*precision)/(recall+precision)\n",
    "    error_rate = 1 - accuracy\n",
    "    \n",
    "    model_dict = {}\n",
    "    model_dict['accuracy'] =  accuracy\n",
    "    model_dict['precision'] = precision\n",
    "    model_dict['recall'] = recall\n",
    "    model_dict['f_measure'] = f_measure\n",
    "    model_dict['error_rate'] = error_rate\n",
    "    \n",
    "    return model_dict"
   ]
  },
  {
   "cell_type": "code",
   "execution_count": 157,
   "id": "25858fc9",
   "metadata": {},
   "outputs": [
    {
     "name": "stdout",
     "output_type": "stream",
     "text": [
      "Train score: 85.12%\n",
      "Test score: 84.62%\n"
     ]
    },
    {
     "data": {
      "text/html": [
       "<div>\n",
       "<style scoped>\n",
       "    .dataframe tbody tr th:only-of-type {\n",
       "        vertical-align: middle;\n",
       "    }\n",
       "\n",
       "    .dataframe tbody tr th {\n",
       "        vertical-align: top;\n",
       "    }\n",
       "\n",
       "    .dataframe thead th {\n",
       "        text-align: right;\n",
       "    }\n",
       "</style>\n",
       "<table border=\"1\" class=\"dataframe\">\n",
       "  <thead>\n",
       "    <tr style=\"text-align: right;\">\n",
       "      <th></th>\n",
       "      <th>accuracy</th>\n",
       "      <th>precision</th>\n",
       "      <th>recall</th>\n",
       "      <th>f_measure</th>\n",
       "      <th>error_rate</th>\n",
       "    </tr>\n",
       "  </thead>\n",
       "  <tbody>\n",
       "    <tr>\n",
       "      <th>Decision Tree</th>\n",
       "      <td>0.8462</td>\n",
       "      <td>0.7584</td>\n",
       "      <td>0.5304</td>\n",
       "      <td>0.6243</td>\n",
       "      <td>0.1538</td>\n",
       "    </tr>\n",
       "  </tbody>\n",
       "</table>\n",
       "</div>"
      ],
      "text/plain": [
       "               accuracy  precision  recall  f_measure  error_rate\n",
       "Decision Tree    0.8462     0.7584  0.5304     0.6243      0.1538"
      ]
     },
     "metadata": {},
     "output_type": "display_data"
    },
    {
     "name": "stdout",
     "output_type": "stream",
     "text": [
      "time taken - dt: 0.3480644226074219\n"
     ]
    },
    {
     "data": {
      "text/html": [
       "<div>\n",
       "<style scoped>\n",
       "    .dataframe tbody tr th:only-of-type {\n",
       "        vertical-align: middle;\n",
       "    }\n",
       "\n",
       "    .dataframe tbody tr th {\n",
       "        vertical-align: top;\n",
       "    }\n",
       "\n",
       "    .dataframe thead th {\n",
       "        text-align: right;\n",
       "    }\n",
       "</style>\n",
       "<table border=\"1\" class=\"dataframe\">\n",
       "  <thead>\n",
       "    <tr style=\"text-align: right;\">\n",
       "      <th></th>\n",
       "      <th>accuracy</th>\n",
       "      <th>precision</th>\n",
       "      <th>recall</th>\n",
       "      <th>f_measure</th>\n",
       "      <th>error_rate</th>\n",
       "      <th>Train score(%)</th>\n",
       "      <th>Test score(%)</th>\n",
       "    </tr>\n",
       "    <tr>\n",
       "      <th>k</th>\n",
       "      <th></th>\n",
       "      <th></th>\n",
       "      <th></th>\n",
       "      <th></th>\n",
       "      <th></th>\n",
       "      <th></th>\n",
       "      <th></th>\n",
       "    </tr>\n",
       "  </thead>\n",
       "  <tbody>\n",
       "    <tr>\n",
       "      <th>2</th>\n",
       "      <td>0.8392</td>\n",
       "      <td>0.7489</td>\n",
       "      <td>0.4998</td>\n",
       "      <td>0.5995</td>\n",
       "      <td>0.1608</td>\n",
       "      <td>90.8179</td>\n",
       "      <td>83.9182</td>\n",
       "    </tr>\n",
       "    <tr>\n",
       "      <th>3</th>\n",
       "      <td>0.8361</td>\n",
       "      <td>0.6661</td>\n",
       "      <td>0.6407</td>\n",
       "      <td>0.6531</td>\n",
       "      <td>0.1639</td>\n",
       "      <td>90.4611</td>\n",
       "      <td>83.6126</td>\n",
       "    </tr>\n",
       "    <tr>\n",
       "      <th>4</th>\n",
       "      <td>0.8477</td>\n",
       "      <td>0.7518</td>\n",
       "      <td>0.5488</td>\n",
       "      <td>0.6345</td>\n",
       "      <td>0.1523</td>\n",
       "      <td>89.0610</td>\n",
       "      <td>84.7718</td>\n",
       "    </tr>\n",
       "    <tr>\n",
       "      <th>5</th>\n",
       "      <td>0.8461</td>\n",
       "      <td>0.6914</td>\n",
       "      <td>0.6521</td>\n",
       "      <td>0.6712</td>\n",
       "      <td>0.1539</td>\n",
       "      <td>88.8036</td>\n",
       "      <td>84.6138</td>\n",
       "    </tr>\n",
       "    <tr>\n",
       "      <th>6</th>\n",
       "      <td>0.8478</td>\n",
       "      <td>0.7404</td>\n",
       "      <td>0.5667</td>\n",
       "      <td>0.6420</td>\n",
       "      <td>0.1522</td>\n",
       "      <td>88.2616</td>\n",
       "      <td>84.7824</td>\n",
       "    </tr>\n",
       "    <tr>\n",
       "      <th>7</th>\n",
       "      <td>0.8452</td>\n",
       "      <td>0.6930</td>\n",
       "      <td>0.6411</td>\n",
       "      <td>0.6661</td>\n",
       "      <td>0.1548</td>\n",
       "      <td>87.9319</td>\n",
       "      <td>84.5189</td>\n",
       "    </tr>\n",
       "    <tr>\n",
       "      <th>8</th>\n",
       "      <td>0.8491</td>\n",
       "      <td>0.7381</td>\n",
       "      <td>0.5786</td>\n",
       "      <td>0.6487</td>\n",
       "      <td>0.1509</td>\n",
       "      <td>87.7151</td>\n",
       "      <td>84.9088</td>\n",
       "    </tr>\n",
       "    <tr>\n",
       "      <th>9</th>\n",
       "      <td>0.8473</td>\n",
       "      <td>0.7027</td>\n",
       "      <td>0.6341</td>\n",
       "      <td>0.6667</td>\n",
       "      <td>0.1527</td>\n",
       "      <td>87.7196</td>\n",
       "      <td>84.7297</td>\n",
       "    </tr>\n",
       "    <tr>\n",
       "      <th>10</th>\n",
       "      <td>0.8496</td>\n",
       "      <td>0.7373</td>\n",
       "      <td>0.5834</td>\n",
       "      <td>0.6514</td>\n",
       "      <td>0.1504</td>\n",
       "      <td>87.4712</td>\n",
       "      <td>84.9615</td>\n",
       "    </tr>\n",
       "  </tbody>\n",
       "</table>\n",
       "</div>"
      ],
      "text/plain": [
       "    accuracy  precision  recall  f_measure  error_rate  Train score(%)  \\\n",
       "k                                                                        \n",
       "2     0.8392     0.7489  0.4998     0.5995      0.1608         90.8179   \n",
       "3     0.8361     0.6661  0.6407     0.6531      0.1639         90.4611   \n",
       "4     0.8477     0.7518  0.5488     0.6345      0.1523         89.0610   \n",
       "5     0.8461     0.6914  0.6521     0.6712      0.1539         88.8036   \n",
       "6     0.8478     0.7404  0.5667     0.6420      0.1522         88.2616   \n",
       "7     0.8452     0.6930  0.6411     0.6661      0.1548         87.9319   \n",
       "8     0.8491     0.7381  0.5786     0.6487      0.1509         87.7151   \n",
       "9     0.8473     0.7027  0.6341     0.6667      0.1527         87.7196   \n",
       "10    0.8496     0.7373  0.5834     0.6514      0.1504         87.4712   \n",
       "\n",
       "    Test score(%)  \n",
       "k                  \n",
       "2         83.9182  \n",
       "3         83.6126  \n",
       "4         84.7718  \n",
       "5         84.6138  \n",
       "6         84.7824  \n",
       "7         84.5189  \n",
       "8         84.9088  \n",
       "9         84.7297  \n",
       "10        84.9615  "
      ]
     },
     "metadata": {},
     "output_type": "display_data"
    },
    {
     "name": "stdout",
     "output_type": "stream",
     "text": [
      "time taken- Knn: 130.90166568756104\n"
     ]
    }
   ],
   "source": [
    "#Decision tree\n",
    "dt_start_time = time.time()\n",
    "\n",
    "dt_model = DecisionTreeClassifier(criterion='gini',max_depth=5, random_state=22)\n",
    "dt_model.fit(x_train, y_train)\n",
    "\n",
    "dt_train_pred = dt_model.predict(x_train)\n",
    "dt_test_pred = dt_model.predict(x_test)\n",
    "\n",
    "print(f'Train score: {accuracy_score(y_train, dt_train_pred) *100:.2f}%')\n",
    "print(f'Test score: {accuracy_score(y_test, dt_test_pred) *100:.2f}%')\n",
    "\n",
    "dt_eval = evaluate(y_test, dt_test_pred)\n",
    "dt_df = round(pd.DataFrame([dt_eval], index = ['Decision Tree']),4)\n",
    "display(dt_df)\n",
    "\n",
    "dt_model_train_time = time.time() - dt_start_time\n",
    "print(f'time taken - dt: {dt_model_train_time}')\n",
    "\n",
    "\n",
    "# Evaluating the K-Nearest Neighbors model\n",
    "Knn_start_time = time.time()\n",
    "\n",
    "k_range = range(2, 11)\n",
    "knn_output = []\n",
    "\n",
    "for val in k_range:\n",
    "    knn = KNeighborsClassifier(n_neighbors=val, metric = 'manhattan')\n",
    "    knn.fit(x_train, y_train)\n",
    "    knn_train_pred = knn.predict(x_train)\n",
    "    knn_test_pred = knn.predict(x_test)\n",
    "    knn_eval = evaluate(y_test, knn_test_pred)\n",
    "    knn_eval['k'] = val\n",
    "    knn_eval['Train score(%)'] = accuracy_score(y_train, knn_train_pred)*100\n",
    "    knn_eval['Test score(%)'] = accuracy_score(y_test, knn_test_pred)*100\n",
    "    knn_output.append(knn_eval)\n",
    "    \n",
    "knn_df = round(pd.DataFrame(knn_output),4)\n",
    "knn_df.set_index('k', inplace = True)\n",
    "display(knn_df)\n",
    "knn_model_train_time = time.time() - Knn_start_time\n",
    "print(f'time taken- Knn: {knn_model_train_time}')\n",
    "\n"
   ]
  },
  {
   "cell_type": "markdown",
   "id": "f10c744a",
   "metadata": {},
   "source": [
    "When k = 10, it gives the best accuracy.\n",
    "\n",
    "Taking k = 10,"
   ]
  },
  {
   "cell_type": "code",
   "execution_count": 158,
   "id": "1b906c5e",
   "metadata": {},
   "outputs": [
    {
     "name": "stdout",
     "output_type": "stream",
     "text": [
      "Train score: 87.47%\n",
      "Test score: 84.96%\n"
     ]
    },
    {
     "data": {
      "text/html": [
       "<div>\n",
       "<style scoped>\n",
       "    .dataframe tbody tr th:only-of-type {\n",
       "        vertical-align: middle;\n",
       "    }\n",
       "\n",
       "    .dataframe tbody tr th {\n",
       "        vertical-align: top;\n",
       "    }\n",
       "\n",
       "    .dataframe thead th {\n",
       "        text-align: right;\n",
       "    }\n",
       "</style>\n",
       "<table border=\"1\" class=\"dataframe\">\n",
       "  <thead>\n",
       "    <tr style=\"text-align: right;\">\n",
       "      <th></th>\n",
       "      <th>accuracy</th>\n",
       "      <th>precision</th>\n",
       "      <th>recall</th>\n",
       "      <th>f_measure</th>\n",
       "      <th>error_rate</th>\n",
       "    </tr>\n",
       "  </thead>\n",
       "  <tbody>\n",
       "    <tr>\n",
       "      <th>k Nearest Neighbour</th>\n",
       "      <td>0.8496</td>\n",
       "      <td>0.7373</td>\n",
       "      <td>0.5834</td>\n",
       "      <td>0.6514</td>\n",
       "      <td>0.1504</td>\n",
       "    </tr>\n",
       "  </tbody>\n",
       "</table>\n",
       "</div>"
      ],
      "text/plain": [
       "                     accuracy  precision  recall  f_measure  error_rate\n",
       "k Nearest Neighbour    0.8496     0.7373  0.5834     0.6514      0.1504"
      ]
     },
     "metadata": {},
     "output_type": "display_data"
    },
    {
     "name": "stdout",
     "output_type": "stream",
     "text": [
      "time taken- Knn: 20.094292640686035\n"
     ]
    }
   ],
   "source": [
    "Knn_start_time = time.time()\n",
    "\n",
    "knn_model = KNeighborsClassifier(n_neighbors=10 , metric = 'manhattan') \n",
    "knn_model.fit(x_train, y_train)\n",
    "\n",
    "knn_train_pred = knn_model.predict(x_train)\n",
    "knn_test_pred = knn_model.predict(x_test)\n",
    "\n",
    "print(f'Train score: {accuracy_score(y_train, knn_train_pred)*100:.2f}%')\n",
    "print(f'Test score: {accuracy_score(y_test, knn_test_pred)*100:.2f}%')\n",
    "\n",
    "knn_eval = evaluate(y_test, knn_test_pred)\n",
    "knn_df = round(pd.DataFrame([knn_eval], index = ['k Nearest Neighbour']),4)\n",
    "display(knn_df)\n",
    "knn_model_train_time = time.time() - Knn_start_time\n",
    "print(f'time taken- Knn: {knn_model_train_time}')"
   ]
  },
  {
   "cell_type": "code",
   "execution_count": null,
   "id": "6310f016",
   "metadata": {},
   "outputs": [],
   "source": []
  }
 ],
 "metadata": {
  "kernelspec": {
   "display_name": "Python 3 (ipykernel)",
   "language": "python",
   "name": "python3"
  },
  "language_info": {
   "codemirror_mode": {
    "name": "ipython",
    "version": 3
   },
   "file_extension": ".py",
   "mimetype": "text/x-python",
   "name": "python",
   "nbconvert_exporter": "python",
   "pygments_lexer": "ipython3",
   "version": "3.9.12"
  }
 },
 "nbformat": 4,
 "nbformat_minor": 5
}
